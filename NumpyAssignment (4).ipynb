{
  "cells": [
    {
      "cell_type": "markdown",
      "metadata": {
        "id": "UZXjlass3ARu"
      },
      "source": [
        "\n",
        "# **1. Basic Array Manipulation:**\n"
      ]
    },
    {
      "cell_type": "markdown",
      "metadata": {
        "id": "tDWPQRm23C7o"
      },
      "source": [
        "Create a 1D array with values ranging from 0 to 9.\n"
      ]
    },
    {
      "cell_type": "code",
      "execution_count": 1,
      "metadata": {
        "id": "OvGF66_02Q8H"
      },
      "outputs": [
        {
          "name": "stdout",
          "output_type": "stream",
          "text": [
            "[0, 1, 2, 3, 4, 5, 6, 7, 8, 9]\n"
          ]
        }
      ],
      "source": [
        "array = [i for i in range (10)]\n",
        "print(array)"
      ]
    },
    {
      "cell_type": "markdown",
      "metadata": {
        "id": "UYzIzPyB3Ne3"
      },
      "source": [
        "Reshape the array into a 3x3 matrix.\n",
        "\n",
        "Explore Reshape Function"
      ]
    },
    {
      "cell_type": "code",
      "execution_count": 2,
      "metadata": {
        "id": "RLlzDCBc2Q_P"
      },
      "outputs": [
        {
          "name": "stdout",
          "output_type": "stream",
          "text": [
            "[[0 1 2]\n",
            " [3 4 5]\n",
            " [6 7 8]]\n"
          ]
        }
      ],
      "source": [
        "import numpy as np \n",
        "\n",
        "array = np.array([i for i in range(9)])\n",
        "matrix = np.reshape(array, (3,3))\n",
        "print((matrix))"
      ]
    },
    {
      "cell_type": "markdown",
      "metadata": {
        "id": "KmhRK9Ti3Phn"
      },
      "source": [
        "Access the element at the second row, second column.\n"
      ]
    },
    {
      "cell_type": "code",
      "execution_count": 3,
      "metadata": {
        "id": "Dk_a1D3A3ijN"
      },
      "outputs": [
        {
          "name": "stdout",
          "output_type": "stream",
          "text": [
            "4\n"
          ]
        }
      ],
      "source": [
        "import numpy as np \n",
        "\n",
        "array = np.array([i for i in range(9)])\n",
        "matrix = np.reshape(array, (3, 3))\n",
        "\n",
        "element = matrix[1, 1]\n",
        "print(element)\n"
      ]
    },
    {
      "cell_type": "markdown",
      "metadata": {
        "id": "NlH7N-fZ36wc"
      },
      "source": [
        "Perform element-wise addition, subtraction, multiplication, and division on two arrays [1, 2, 3] and [4, 5, 6].\n"
      ]
    },
    {
      "cell_type": "code",
      "execution_count": 4,
      "metadata": {
        "id": "PkgNSo1a37kP"
      },
      "outputs": [
        {
          "name": "stdout",
          "output_type": "stream",
          "text": [
            "Addition: [5 7 9]\n",
            "subsctration: [-3 -3 -3]\n",
            "multiplication: [ 4 10 18]\n",
            "division: [0.25 0.4  0.5 ]\n"
          ]
        }
      ],
      "source": [
        "import numpy as np\n",
        "array1 = np.array([1,2,3])\n",
        "array2 = np.array([4,5,6])\n",
        "\n",
        "#add\n",
        "add_result = array1 + array2\n",
        "print(\"Addition:\", add_result)\n",
        "\n",
        "#sub\n",
        "sub_result = array1 - array2\n",
        "print(\"subsctration:\", sub_result)\n",
        "\n",
        "#mult\n",
        "mult_result = array1 * array2\n",
        "print(\"multiplication:\",mult_result)\n",
        "\n",
        "#Division\n",
        "division_result = array1 / array2\n",
        "print(\"division:\", division_result)"
      ]
    },
    {
      "cell_type": "markdown",
      "metadata": {
        "id": "JVt4zxkk8e0P"
      },
      "source": [
        "Find the sum, mean, and standard deviation of the array [1, 2, 3, 4, 5].\n"
      ]
    },
    {
      "cell_type": "code",
      "execution_count": 5,
      "metadata": {
        "id": "mQZxaZ0c8nhh"
      },
      "outputs": [
        {
          "name": "stdout",
          "output_type": "stream",
          "text": [
            "sum: 15\n",
            "mean: 3.0\n",
            "standard deviation: 1.4142135623730951\n"
          ]
        }
      ],
      "source": [
        "import numpy as np \n",
        "\n",
        "array = np.array([1,2,3,4,5])\n",
        "\n",
        "#sum\n",
        "array_sum = np.sum(array)\n",
        "print(\"sum:\", array_sum)\n",
        "\n",
        "#mean\n",
        "array_mean = np.mean(array)\n",
        "print(\"mean:\", array_mean)\n",
        "\n",
        "# standard deviation \n",
        "array_std_dev = np.std(array)\n",
        "print(\"standard deviation:\", array_std_dev)"
      ]
    },
    {
      "cell_type": "markdown",
      "metadata": {
        "id": "ji2XvW0Z8nn5"
      },
      "source": [
        "Reshape the array [1, 2, 3, 4, 5, 6] into a 2x3 array.\n",
        "\n",
        "Explore Reshape"
      ]
    },
    {
      "cell_type": "code",
      "execution_count": 6,
      "metadata": {
        "id": "FNbYlzyI8rAx"
      },
      "outputs": [
        {
          "name": "stdout",
          "output_type": "stream",
          "text": [
            "[[1 2 3]\n",
            " [4 5 6]]\n"
          ]
        }
      ],
      "source": [
        "import numpy as np \n",
        "\n",
        "array = np.array([1,2,3,4,5,6])\n",
        "\n",
        "# reshape into a 2x3 array\n",
        "reshaped_array = np.reshape(array,(2,3))\n",
        "\n",
        "print(reshaped_array)\n",
        "\n",
        "\n",
        "\n",
        "\n"
      ]
    },
    {
      "cell_type": "markdown",
      "metadata": {
        "id": "OE-5o0th3SU4"
      },
      "source": [
        "\n",
        "# **2. Indexing and Slicing:**\n"
      ]
    },
    {
      "cell_type": "markdown",
      "metadata": {},
      "source": []
    },
    {
      "cell_type": "markdown",
      "metadata": {
        "id": "yqNKWBOl3an3"
      },
      "source": [
        "Create a 5x5 array with random integers.\n"
      ]
    },
    {
      "cell_type": "code",
      "execution_count": 7,
      "metadata": {
        "id": "G-kX4nme2RBn"
      },
      "outputs": [
        {
          "name": "stdout",
          "output_type": "stream",
          "text": [
            "Original Array:\n",
            "[[3 5 4 8 9]\n",
            " [2 2 0 1 1]\n",
            " [0 3 0 3 3]\n",
            " [5 9 5 1 0]\n",
            " [1 6 4 8 6]]\n",
            "\n",
            "Array after replacement:\n",
            "[[ 3  5  4  8  9]\n",
            " [ 2  2  0  1  1]\n",
            " [ 0  3 -1 -1  3]\n",
            " [ 5  9 -1 -1  0]\n",
            " [ 1  6  4  8  6]]\n"
          ]
        }
      ],
      "source": [
        "import numpy as np\n",
        "\n",
        "# Create a 5x5 array with random integers between 0 and 9\n",
        "array = np.random.randint(0, 10, size=(5, 5))\n",
        "\n",
        "print(\"Original Array:\")\n",
        "print(array)\n",
        "\n",
        "# Define the specific value\n",
        "specific_value = -1\n",
        "\n",
        "# Define the indices of the sub-array\n",
        "row_start, row_end = 2, 4  # Rows 2 to 3\n",
        "col_start, col_end = 2, 4  # Columns 2 to 3\n",
        "\n",
        "# Replace the values in the sub-array with the specific value\n",
        "array[row_start:row_end, col_start:col_end] = specific_value\n",
        "\n",
        "print(\"\\nArray after replacement:\")\n",
        "print(array)\n"
      ]
    },
    {
      "cell_type": "markdown",
      "metadata": {
        "id": "LlilKAMF3bMX"
      },
      "source": [
        "Replace all values in the sub-array with a specific value.\n"
      ]
    },
    {
      "cell_type": "code",
      "execution_count": null,
      "metadata": {
        "id": "gShfqRGm2REI"
      },
      "outputs": [],
      "source": []
    },
    {
      "cell_type": "markdown",
      "metadata": {
        "id": "1kUY7u023gfF"
      },
      "source": [
        "Extract the subarray [[3, 4], [7, 8]] from the array [[1, 2], [3, 4], [5, 6], [7, 8]].\n"
      ]
    },
    {
      "cell_type": "code",
      "execution_count": 8,
      "metadata": {
        "id": "UmgqjBwC3_4V"
      },
      "outputs": [
        {
          "name": "stdout",
          "output_type": "stream",
          "text": [
            "[[3 4]\n",
            " [5 6]]\n"
          ]
        }
      ],
      "source": [
        "import numpy as np\n",
        "\n",
        "array = np.array([[1,2],[3,4],[5,6],[7,8]])\n",
        "\n",
        "subarray = array[1:3, :]\n",
        "print(subarray)"
      ]
    },
    {
      "cell_type": "markdown",
      "metadata": {
        "id": "vPrCHS_O3jK9"
      },
      "source": [
        "\n",
        "# **3. Broadcasting:**"
      ]
    },
    {
      "cell_type": "markdown",
      "metadata": {
        "id": "W3WUM5Cc3phc"
      },
      "source": [
        "Create a 2D array of shape (3, 3) with values from 0 to 2.\n"
      ]
    },
    {
      "cell_type": "code",
      "execution_count": 14,
      "metadata": {
        "id": "PxJrAlFW2RGw"
      },
      "outputs": [
        {
          "ename": "ValueError",
          "evalue": "cannot reshape array of size 1 into shape (3,1)",
          "output_type": "error",
          "traceback": [
            "\u001b[1;31m---------------------------------------------------------------------------\u001b[0m",
            "\u001b[1;31mValueError\u001b[0m                                Traceback (most recent call last)",
            "Cell \u001b[1;32mIn[14], line 3\u001b[0m\n\u001b[0;32m      1\u001b[0m \u001b[38;5;28;01mimport\u001b[39;00m \u001b[38;5;21;01mnumpy\u001b[39;00m \u001b[38;5;28;01mas\u001b[39;00m \u001b[38;5;21;01mnp\u001b[39;00m \n\u001b[1;32m----> 3\u001b[0m array \u001b[38;5;241m=\u001b[39m \u001b[43mnp\u001b[49m\u001b[38;5;241;43m.\u001b[39;49m\u001b[43marray\u001b[49m\u001b[43m(\u001b[49m\u001b[38;5;241;43m3\u001b[39;49m\u001b[43m)\u001b[49m\u001b[38;5;241;43m.\u001b[39;49m\u001b[43mreshape\u001b[49m\u001b[43m(\u001b[49m\u001b[38;5;241;43m3\u001b[39;49m\u001b[43m,\u001b[49m\u001b[38;5;241;43m1\u001b[39;49m\u001b[43m)\u001b[49m \u001b[38;5;241m+\u001b[39m np\u001b[38;5;241m.\u001b[39marray(\u001b[38;5;241m3\u001b[39m)\n\u001b[0;32m      5\u001b[0m \u001b[38;5;28mprint\u001b[39m(array)\n",
            "\u001b[1;31mValueError\u001b[0m: cannot reshape array of size 1 into shape (3,1)"
          ]
        }
      ],
      "source": [
        "import numpy as np \n",
        "\n",
        "array = np.array(3).reshape(3,1) + np.array(3)\n",
        "\n",
        "print(array)"
      ]
    },
    {
      "cell_type": "markdown",
      "metadata": {
        "id": "J5XPwN3A3rXG"
      },
      "source": [
        "Add a 1D array of shape (3,) to each row of the 2D array using broadcasting.\n"
      ]
    },
    {
      "cell_type": "code",
      "execution_count": 15,
      "metadata": {
        "id": "k4FM2g_c2RJv"
      },
      "outputs": [
        {
          "name": "stdout",
          "output_type": "stream",
          "text": [
            "[[1 3 5]\n",
            " [2 4 6]\n",
            " [3 5 7]]\n"
          ]
        }
      ],
      "source": [
        "import numpy as np\n",
        "\n",
        "# Create the 2D array\n",
        "array_2d = np.arange(3).reshape(3, 1) + np.arange(3)\n",
        "\n",
        "# Create the 1D array\n",
        "array_1d = np.array([1, 2, 3])\n",
        "\n",
        "# Add the 1D array to each row of the 2D array using broadcasting\n",
        "result = array_2d + array_1d\n",
        "\n",
        "print(result)\n"
      ]
    },
    {
      "cell_type": "markdown",
      "metadata": {
        "id": "9CbtQS3w4PA3"
      },
      "source": [
        "# **4. Concatenation and Splitting**"
      ]
    },
    {
      "cell_type": "markdown",
      "metadata": {
        "id": "yMg_umVy4ILG"
      },
      "source": [
        "\n",
        "1.   Create two 2D arrays of shape (3, 3) with random integers.\n",
        "2.   Concatenate them horizontally and vertically.\n",
        "3.   Split the concatenated arrays back into the original arrays.\n"
      ]
    },
    {
      "cell_type": "code",
      "execution_count": 16,
      "metadata": {
        "id": "wXiCa2Sn8XHP"
      },
      "outputs": [
        {
          "name": "stdout",
          "output_type": "stream",
          "text": [
            "Array 1:\n",
            "[[8 3 7]\n",
            " [9 6 9]\n",
            " [1 1 3]]\n",
            "\n",
            "Array 2:\n",
            "[[3 3 3]\n",
            " [9 3 8]\n",
            " [3 5 9]]\n"
          ]
        }
      ],
      "source": [
        "import numpy as np\n",
        "\n",
        "# Create the first 2D array with random integers\n",
        "array1 = np.random.randint(0, 10, size=(3, 3))\n",
        "\n",
        "# Create the second 2D array with random integers\n",
        "array2 = np.random.randint(0, 10, size=(3, 3))\n",
        "\n",
        "print(\"Array 1:\")\n",
        "print(array1)\n",
        "print(\"\\nArray 2:\")\n",
        "print(array2)"
      ]
    },
    {
      "cell_type": "code",
      "execution_count": 17,
      "metadata": {
        "id": "yAiYe6vj8XSW"
      },
      "outputs": [
        {
          "name": "stdout",
          "output_type": "stream",
          "text": [
            "Horizontally concatenated:\n",
            "[[7 7 6 0 2 8]\n",
            " [3 0 8 3 3 9]\n",
            " [7 4 9 2 2 1]]\n",
            "\n",
            "Vertically concatenated:\n",
            "[[7 7 6]\n",
            " [3 0 8]\n",
            " [7 4 9]\n",
            " [0 2 8]\n",
            " [3 3 9]\n",
            " [2 2 1]]\n"
          ]
        }
      ],
      "source": [
        "import numpy as np\n",
        "\n",
        "# Create the first 2D array with random integers\n",
        "array1 = np.random.randint(0, 10, size=(3, 3))\n",
        "\n",
        "# Create the second 2D array with random integers\n",
        "array2 = np.random.randint(0, 10, size=(3, 3))\n",
        "\n",
        "# Concatenate them horizontally\n",
        "horizontal_concatenated = np.concatenate((array1, array2), axis=1)\n",
        "\n",
        "# Concatenate them vertically\n",
        "vertical_concatenated = np.concatenate((array1, array2), axis=0)\n",
        "\n",
        "print(\"Horizontally concatenated:\")\n",
        "print(horizontal_concatenated)\n",
        "\n",
        "print(\"\\nVertically concatenated:\")\n",
        "print(vertical_concatenated)\n"
      ]
    },
    {
      "cell_type": "code",
      "execution_count": 18,
      "metadata": {
        "id": "lgMsjt-J8XZK"
      },
      "outputs": [
        {
          "name": "stdout",
          "output_type": "stream",
          "text": [
            "Horizontally split:\n",
            "Array 1:\n",
            "[[6 6 8]\n",
            " [6 8 1]\n",
            " [5 8 3]]\n",
            "\n",
            "Array 2:\n",
            "[[4 3 2]\n",
            " [7 2 1]\n",
            " [0 5 5]]\n",
            "\n",
            "Vertically split:\n",
            "Array 1:\n",
            "[[6 6 8]\n",
            " [6 8 1]\n",
            " [5 8 3]]\n",
            "\n",
            "Array 2:\n",
            "[[4 3 2]\n",
            " [7 2 1]\n",
            " [0 5 5]]\n"
          ]
        }
      ],
      "source": [
        "import numpy as np\n",
        "\n",
        "# Create the first 2D array with random integers\n",
        "array1 = np.random.randint(0, 10, size=(3, 3))\n",
        "\n",
        "# Create the second 2D array with random integers\n",
        "array2 = np.random.randint(0, 10, size=(3, 3))\n",
        "\n",
        "# Concatenate them horizontally\n",
        "horizontal_concatenated = np.concatenate((array1, array2), axis=1)\n",
        "\n",
        "# Concatenate them vertically\n",
        "vertical_concatenated = np.concatenate((array1, array2), axis=0)\n",
        "\n",
        "# Split horizontally concatenated array back into original arrays\n",
        "array1_split_h, array2_split_h = np.split(horizontal_concatenated, 2, axis=1)\n",
        "\n",
        "# Split vertically concatenated array back into original arrays\n",
        "array1_split_v, array2_split_v = np.split(vertical_concatenated, 2, axis=0)\n",
        "\n",
        "print(\"Horizontally split:\")\n",
        "print(\"Array 1:\")\n",
        "print(array1_split_h)\n",
        "print(\"\\nArray 2:\")\n",
        "print(array2_split_h)\n",
        "\n",
        "print(\"\\nVertically split:\")\n",
        "print(\"Array 1:\")\n",
        "print(array1_split_v)\n",
        "print(\"\\nArray 2:\")\n",
        "print(array2_split_v)\n"
      ]
    },
    {
      "cell_type": "markdown",
      "metadata": {
        "id": "2CliNLH8YG3j"
      },
      "source": [
        "# **Bonus Question**\n",
        "\n",
        "Find mode of this array  = [1,2,1,2,3,4,5,6,8,9,1,2,2,22,21,1,1,1,1,2,5]\n",
        "\n",
        "Hint: Use count and also loop"
      ]
    },
    {
      "cell_type": "code",
      "execution_count": null,
      "metadata": {
        "id": "JGe2Qe3SYaHq"
      },
      "outputs": [],
      "source": []
    },
    {
      "cell_type": "markdown",
      "metadata": {
        "id": "1t9n5GQdYbHN"
      },
      "source": [
        "# **Notes**\n",
        "\n",
        "\n",
        "1.   All the Questions carry Equal Points (2 points)\n",
        "\n",
        "2.   Bonus Question carry 5 points\n",
        "\n",
        "3.   Review lecture for any query\n",
        "\n",
        "Good Luck!\n",
        "\n"
      ]
    },
    {
      "cell_type": "code",
      "execution_count": null,
      "metadata": {
        "id": "yxT9-gJfYugV"
      },
      "outputs": [],
      "source": []
    }
  ],
  "metadata": {
    "colab": {
      "provenance": []
    },
    "kernelspec": {
      "display_name": "Python 3",
      "name": "python3"
    },
    "language_info": {
      "codemirror_mode": {
        "name": "ipython",
        "version": 3
      },
      "file_extension": ".py",
      "mimetype": "text/x-python",
      "name": "python",
      "nbconvert_exporter": "python",
      "pygments_lexer": "ipython3",
      "version": "3.12.0"
    }
  },
  "nbformat": 4,
  "nbformat_minor": 0
}
